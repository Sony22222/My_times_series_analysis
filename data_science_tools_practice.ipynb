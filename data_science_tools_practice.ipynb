{
 "cells": [
  {
   "cell_type": "markdown",
   "id": "436708a1",
   "metadata": {},
   "source": [
    "# Data Science Tools and Ecosystem — Practice Notebook\n",
    "\n",
    "*(Exercise 2 — Title)*"
   ]
  },
  {
   "cell_type": "markdown",
   "id": "2b7fae1c",
   "metadata": {},
   "source": [
    "## Introduction\n",
    "*(Exercise 3 — Introduction)*\n",
    "\n",
    "This notebook demonstrates core elements of the Data Science toolkit. \n",
    "You'll find lists of common **languages** and **libraries**, a small **table of tools**, and a couple of **arithmetic/code** exercises.\n"
   ]
  },
  {
   "cell_type": "markdown",
   "id": "a4844715",
   "metadata": {},
   "source": [
    "## Data Science Languages\n",
    "*(Exercise 4 — List languages)*\n",
    "\n",
    "- Python  \n",
    "- R  \n",
    "- SQL  \n",
    "- Julia  \n",
    "- Scala  \n",
    "- MATLAB\n"
   ]
  },
  {
   "cell_type": "markdown",
   "id": "9f0020e0",
   "metadata": {},
   "source": [
    "## Data Science Libraries\n",
    "*(Exercise 5 — List libraries)*\n",
    "\n",
    "- NumPy  \n",
    "- pandas  \n",
    "- Matplotlib / Seaborn  \n",
    "- SciPy  \n",
    "- scikit-learn  \n",
    "- TensorFlow / Keras  \n",
    "- PyTorch  \n",
    "- statsmodels  \n",
    "- Spark MLlib\n"
   ]
  },
  {
   "cell_type": "markdown",
   "id": "6d62b1dd",
   "metadata": {},
   "source": [
    "## Table of Data Science Tools\n",
    "*(Exercise 6 — Tools table)*\n",
    "\n",
    "| Tool / Platform | Category | Notes |\n",
    "|---|---|---|\n",
    "| JupyterLab / Jupyter Notebook | IDE / Notebooks | Interactive computing |\n",
    "| VS Code | Editor / IDE | Extensions for Python, Jupyter |\n",
    "| RStudio | IDE | R and Python support |\n",
    "| Apache Spark | Big Data / Compute | PySpark, MLlib |\n",
    "| Hadoop (HDFS) | Storage | Distributed file system |\n",
    "| Tableau | BI / Visualization | Drag-and-drop dashboards |\n",
    "| Power BI | BI / Visualization | Desktop + Service |\n",
    "| Git & GitHub | Version Control | Collaboration and CI |\n",
    "| Docker | Packaging | Reproducible environments |\n"
   ]
  },
  {
   "cell_type": "markdown",
   "id": "8f2748b3",
   "metadata": {},
   "source": [
    "## Arithmetic Expression Examples\n",
    "*(Exercise 7 — Intro text)*\n",
    "\n",
    "Below we evaluate a simple arithmetic expression that **multiplies and adds** numbers.\n"
   ]
  },
  {
   "cell_type": "code",
   "execution_count": null,
   "id": "91f5daeb",
   "metadata": {},
   "outputs": [],
   "source": [
    "# Exercise 8 — Multiply and add numbers\n",
    "# Compute (3 * 4) + 5\n",
    "result = (3 * 4) + 5\n",
    "result"
   ]
  },
  {
   "cell_type": "markdown",
   "id": "2958ea2c",
   "metadata": {},
   "source": [
    "## Convert Minutes to Hours\n",
    "*(Exercise 9 — Code cell)*\n",
    "\n",
    "The code below converts a number of minutes into hours (both fractional and in hours/minutes format).\n"
   ]
  },
  {
   "cell_type": "code",
   "execution_count": null,
   "id": "faae6e0a",
   "metadata": {},
   "outputs": [],
   "source": [
    "# Exercise 9 — Convert minutes to hours\n",
    "minutes = 200  # change this value to test other inputs\n",
    "hours = minutes / 60\n",
    "h, m = divmod(minutes, 60)\n",
    "print(f\"{minutes} minutes = {hours:.2f} hours (i.e., {h} hour(s) and {m} minute(s))\")"
   ]
  },
  {
   "cell_type": "markdown",
   "id": "adcb5c2e",
   "metadata": {},
   "source": [
    "## Objectives\n",
    "*(Exercise 10 — List Objectives)*\n",
    "\n",
    "- Identify popular **data science languages**, **libraries**, and **tools**  \n",
    "- Practice simple **arithmetic expressions** in Python  \n",
    "- Convert **minutes to hours** with Python code  \n",
    "- Prepare the notebook for **sharing on GitHub**\n"
   ]
  },
  {
   "cell_type": "markdown",
   "id": "364170ec",
   "metadata": {},
   "source": [
    "## Author\n",
    "*(Exercise 11 — Author's name)*\n",
    "\n",
    "**Mbarga Zoua Sony Bethan Carel**\n"
   ]
  },
  {
   "cell_type": "markdown",
   "id": "c2b02008",
   "metadata": {},
   "source": [
    "## Share this Notebook via GitHub\n",
    "*(Exercise 12 — Instructions)*\n",
    "\n",
    "1. Create a new public repository on GitHub (e.g., **data-science-tools-notebook**).  \n",
    "2. On your computer, move this notebook file into a local folder for that repo.  \n",
    "3. Using VS Code or Git Bash:\n",
    "   ```bash\n",
    "   git init\n",
    "   git add data_science_tools_practice.ipynb\n",
    "   git commit -m \"Add practice notebook\"\n",
    "   git branch -M main\n",
    "   git remote add origin https://github.com/<your-username>/data-science-tools-notebook.git\n",
    "   git push -u origin main\n",
    "   ```\n",
    "4. Copy the **URL** of the notebook on GitHub and share it.\n"
   ]
  },
  {
   "cell_type": "markdown",
   "id": "bab3e7be",
   "metadata": {},
   "source": [
    "## Screenshot of the First Page\n",
    "*(Exercise 13 — Instructions)*\n",
    "\n",
    "Open the notebook in Jupyter (or on GitHub), zoom to 100%, and take a **screenshot of the first page**:\n",
    "- Windows: `Win + Shift + S` → select area → save the image  \n",
    "- macOS: `Shift + Cmd + 4` → select area → image saved to Desktop  \n",
    "- Name the file like **notebook_first_page.png** and submit it as requested.\n"
   ]
  }
 ],
 "metadata": {},
 "nbformat": 4,
 "nbformat_minor": 5
}